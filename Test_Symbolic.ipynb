{
  "nbformat": 4,
  "nbformat_minor": 0,
  "metadata": {
    "colab": {
      "provenance": [],
      "authorship_tag": "ABX9TyMNnAmB4cxNh4tliiAiWVnJ",
      "include_colab_link": true
    },
    "kernelspec": {
      "name": "python3",
      "display_name": "Python 3"
    },
    "language_info": {
      "name": "python"
    }
  },
  "cells": [
    {
      "cell_type": "markdown",
      "metadata": {
        "id": "view-in-github",
        "colab_type": "text"
      },
      "source": [
        "<a href=\"https://colab.research.google.com/github/JasonLi14/Discontinuity-Finder/blob/main/Test_Symbolic.ipynb\" target=\"_parent\"><img src=\"https://colab.research.google.com/assets/colab-badge.svg\" alt=\"Open In Colab\"/></a>"
      ]
    },
    {
      "cell_type": "code",
      "execution_count": 1,
      "metadata": {
        "id": "ZfBoYKKdRFQf"
      },
      "outputs": [],
      "source": [
        "from sympy import *\n",
        "import math\n",
        "import queue\n",
        "import warnings\n",
        "from typing import Any, Self"
      ]
    },
    {
      "cell_type": "markdown",
      "source": [
        "# Discontinuity Detector\n",
        "## Introduction\n",
        "This is a Jupyter notebook testing some functions with Python's SymPy library to symbolically find and categorize discontinuities.\n",
        "\n",
        "This program currently works similarly to human intuition. It detects points that could contain a discontinuity and then evaluates the function and limit at those points and categorizes them. While SymPy supports evaluating functions and limits, this notebook seeks to create a method to find these \"problem points\".\n",
        "\n",
        "The main idea is from this fact: If $f$ is continuous at $c$ and $g$ is continuous at $f(c)$, then $g \\circ f$ is continuous at $c$.\n",
        "\n",
        "To see this, since $g$ is continuous at $f(c)$, for all $\\epsilon > 0$ there exists $\\delta_1 > 0$ such that if $|f(c) - x| < \\delta_1$ then $|g(f(c)) - g(x)| < \\epsilon$. Likewise, since $f$ is continuous at $c$, there exists $\\delta_2$ such that $|c-x| < \\delta_2$ implies $|f(c)-f(x)| < \\delta_2$. Therefore, if $|c-x| < \\delta_2$, we have that $|f(c)-f(x)| < \\delta_1$ and thus $|g(f(c)) - g(f(x))| < \\epsilon$, i.e. $\\lim_{x \\rightarrow c} g(f(x)) = g(f(c))$, as required. $\\square$\n",
        "\n",
        "The same property applies to addition, multiplication, and subtraction.\n",
        "\n",
        "We can exploit this fact by parsing the entire function as a series of compositions. We disregard all points we know that are continuous and only focus on the \"problem points.\" Then, we evaluate the function and sided limits at these \"problem points\" to categorize them as various discontinuities.\n",
        "\n",
        "## Input\n",
        "To start, let's input and parse the function as an expression tree that we can later traverse."
      ],
      "metadata": {
        "id": "3xCl3RnOzKun"
      }
    },
    {
      "cell_type": "code",
      "source": [
        "# Initialize x as the symbol we use\n",
        "x = symbols('x')\n",
        "\n",
        "def getInput(str_input: str = None) -> Expr:\n",
        "  # Require that str_input is an expression in terms of x\n",
        "\n",
        "  # We can also supply this input function with a string\n",
        "  if str_input is None:\n",
        "    func = input(\"f(x) = \")\n",
        "  else:\n",
        "    func = str_input\n",
        "  # Parse the input\n",
        "  parsed_func = parsing.sympy_parser.parse_expr(func,\n",
        "                                                transformations='all',\n",
        "                                                evaluate=false)\n",
        "  # Turn the expression into a tree to recurse through.\n",
        "  func_tree = srepr(parsed_func)\n",
        "  # Display the results\n",
        "  print(\"Input: \")\n",
        "  display(parsed_func)\n",
        "  return parsed_func\n",
        "\n",
        "# Examples\n",
        "getInput(\"3x/28\")\n",
        "getInput(\"4x**32\")\n",
        "getInput(\"e**x\")\n",
        "getInput(\"sin(pi * x)\")\n"
      ],
      "metadata": {
        "colab": {
          "base_uri": "https://localhost:8080/",
          "height": 207
        },
        "id": "DWyQDA6i0HgK",
        "outputId": "1aa5367b-c86c-4a78-d90a-1f657d4fd087"
      },
      "execution_count": 2,
      "outputs": [
        {
          "output_type": "stream",
          "name": "stdout",
          "text": [
            "Input: \n"
          ]
        },
        {
          "output_type": "display_data",
          "data": {
            "text/plain": [
              "3*x/28"
            ],
            "text/latex": "$\\displaystyle \\frac{3 x}{28}$"
          },
          "metadata": {}
        },
        {
          "output_type": "stream",
          "name": "stdout",
          "text": [
            "Input: \n"
          ]
        },
        {
          "output_type": "display_data",
          "data": {
            "text/plain": [
              "4*x**32"
            ],
            "text/latex": "$\\displaystyle 4 x^{32}$"
          },
          "metadata": {}
        },
        {
          "output_type": "stream",
          "name": "stdout",
          "text": [
            "Input: \n"
          ]
        },
        {
          "output_type": "display_data",
          "data": {
            "text/plain": [
              "e**x"
            ],
            "text/latex": "$\\displaystyle e^{x}$"
          },
          "metadata": {}
        },
        {
          "output_type": "stream",
          "name": "stdout",
          "text": [
            "Input: \n"
          ]
        },
        {
          "output_type": "display_data",
          "data": {
            "text/plain": [
              "sin(pi*x)"
            ],
            "text/latex": "$\\displaystyle \\sin{\\left(\\pi x \\right)}$"
          },
          "metadata": {}
        },
        {
          "output_type": "execute_result",
          "data": {
            "text/plain": [
              "sin(pi*x)"
            ],
            "text/latex": "$\\displaystyle \\sin{\\left(\\pi x \\right)}$"
          },
          "metadata": {},
          "execution_count": 2
        }
      ]
    },
    {
      "cell_type": "markdown",
      "source": [
        "## Accumulating Points to Check\n",
        "We need to set up how each operation affects the \"problem points\". We will do this with our set of modify functions, which take in the arguments of the expression and return the set of points that may contain a discontinuity. For instance, when we add or multiply, the problem points are not affected, so we just return both."
      ],
      "metadata": {
        "id": "zxgCIpie7YMJ"
      }
    },
    {
      "cell_type": "code",
      "source": [
        "# Examples\n",
        "display(S.EmptySet)\n",
        "display(FiniteSet(0))\n",
        "display(FiniteSet(0).union(FiniteSet(1)))"
      ],
      "metadata": {
        "id": "O_njuWyeLYCY",
        "colab": {
          "base_uri": "https://localhost:8080/",
          "height": 78
        },
        "outputId": "a8608149-9ad1-463e-cd27-a15583439cb6"
      },
      "execution_count": 3,
      "outputs": [
        {
          "output_type": "display_data",
          "data": {
            "text/plain": [
              "EmptySet"
            ],
            "text/latex": "$\\displaystyle \\emptyset$"
          },
          "metadata": {}
        },
        {
          "output_type": "display_data",
          "data": {
            "text/plain": [
              "{0}"
            ],
            "text/latex": "$\\displaystyle \\left\\{0\\right\\}$"
          },
          "metadata": {}
        },
        {
          "output_type": "display_data",
          "data": {
            "text/plain": [
              "{0, 1}"
            ],
            "text/latex": "$\\displaystyle \\left\\{0, 1\\right\\}$"
          },
          "metadata": {}
        }
      ]
    },
    {
      "cell_type": "markdown",
      "source": [
        "What about division, say $\\frac{f(x)}{g(x)}$? Actually, SymPy doesn't represent division with a different class. Instead, to resolve division, we actually need to implement the power function. This raises the question: when is $f^g$ continuous? Let's split it into a few cases:\n",
        "1. $f(c) > 0$ and $f, g$ are continuous at $c$, then $f^g$ is continuous.\n",
        "2. $f(c) = 0, g(c) > 0$,  and $f, g$ are continuous at $c$, then $f^g$ is continuous.\n",
        "3. $f(c) = 0, g(c) \\leq 0$, then $f^g$ does not exist at $c$ and therefore is not continuous.\n",
        "4. $f(c) < 0, g(x) = a \\in \\mathbb{Q}$ for some constant $a$ near $c$, $a$ has odd denominator when reduced, and $f$ is continuous at $c$, then $f^g = f^a$ is continuous at $c$.\n",
        "5. $f(c) < 0$, $g$ varies (heuristically $g$ depends on $x$) near x, then it's probably discontinuous. The idea is that for all positive $\\epsilon$, there exists a rational number in reduced form $\\frac{p_1}{q_1}$ in $[g(c) - \\epsilon, g(c))$ and $\\frac{p_2}{q_2}$ in $(g(c), g(c) + \\epsilon]$. Then, there is an odd integer in $[2p_1q_2, 2p_2q_1]$, say $a$, such that $\\frac{a}{2q_1q_2} \\in [\\frac{p_1}{q_1}, \\frac{p_2}{q_2}]$. But $f(c)^{\\frac{a}{2q_1q_2}}$ does not exist.\n",
        "\n",
        "In summary, we accumulate problem points as follows:\n",
        "1. Add points such that $f(c) = 0$ and $g(c) \\leq 0$\n",
        "2. Add points such that $f(c) < 0$ and $g$ depends on $x$.\n",
        "3. Add points such that $f(c) < 0$ and $g$ is an irrational constant or a fraction with even denominator.\n",
        "4. Add points where either $f$ or $g$ are discontinuous.\n",
        "\n",
        "We also add a domain parameter in the case of piecewise functions, which we resolve later.\n"
      ],
      "metadata": {
        "id": "oXjKHc8-Ozs7"
      }
    },
    {
      "cell_type": "code",
      "source": [
        "def powModify(f_exp: Expr, g_exp: Expr,\n",
        "               curr_problem_points: Set = S.EmptySet,\n",
        "               domain: Set = S.Reals) -> Set:\n",
        "  # Case 4\n",
        "  problem_points = curr_problem_points.intersect(domain)\n",
        "  # Case 1\n",
        "  f_zeroes = solveset(Eq(f_exp, 0), x, domain=domain)\n",
        "  g_negative = solveset(LessThan(g_exp, 0), x, domain=domain)\n",
        "  # Add them to our problem points\n",
        "  problem_points = problem_points.union((f_zeroes).intersect(g_negative))\n",
        "  # Case 2\n",
        "  # Check if g depends on x\n",
        "  if x in g_exp.free_symbols:\n",
        "    f_negative = solveset(StrictLessThan(f_exp, 0), x, domain=domain)\n",
        "    problem_points = problem_points.union(f_negative)\n",
        "  # Case 3\n",
        "  # Check if g is a constant that is a rational number\n",
        "  else:\n",
        "    g_value = g_exp.doit()\n",
        "    # If g is irrational or g has even denominator\n",
        "    if (g_value not in S.Rationals) or (g_value.q % 2 == 0):\n",
        "      f_negative = solveset(StrictLessThan(f_exp, 0), x, domain=domain)\n",
        "      problem_points = problem_points.union(f_negative)\n",
        "\n",
        "  # Only include points specified in the domain\n",
        "  return problem_points\n",
        "\n",
        "# Examples\n",
        "display(powModify(x, Integer(-1)))\n",
        "display(powModify(x, Integer(1)))\n",
        "display(powModify(x, x))\n",
        "display(powModify(S.Exp1, x))\n",
        "display(powModify(sin(x), S.Zero))\n",
        "display(powModify(sin(x), S.Zero, domain=Interval(0, 5)))\n",
        "display(powModify(x, Rational(1, 2)))\n",
        "# Note that solveset only returns one interval for sin(x) < 0\n",
        "display(powModify(sin(x), Rational(1, 2)))\n",
        "display(powModify(x, x, FiniteSet(1)))"
      ],
      "metadata": {
        "id": "QSXzv3O9EzfV",
        "colab": {
          "base_uri": "https://localhost:8080/",
          "height": 204
        },
        "outputId": "c44aae9f-6922-46a4-cb5d-4b523111b008"
      },
      "execution_count": 4,
      "outputs": [
        {
          "output_type": "display_data",
          "data": {
            "text/plain": [
              "{0}"
            ],
            "text/latex": "$\\displaystyle \\left\\{0\\right\\}$"
          },
          "metadata": {}
        },
        {
          "output_type": "display_data",
          "data": {
            "text/plain": [
              "EmptySet"
            ],
            "text/latex": "$\\displaystyle \\emptyset$"
          },
          "metadata": {}
        },
        {
          "output_type": "display_data",
          "data": {
            "text/plain": [
              "Interval(-oo, 0)"
            ],
            "text/latex": "$\\displaystyle \\left(-\\infty, 0\\right]$"
          },
          "metadata": {}
        },
        {
          "output_type": "display_data",
          "data": {
            "text/plain": [
              "EmptySet"
            ],
            "text/latex": "$\\displaystyle \\emptyset$"
          },
          "metadata": {}
        },
        {
          "output_type": "display_data",
          "data": {
            "text/plain": [
              "Union(ImageSet(Lambda(_n, 2*_n*pi), Integers), ImageSet(Lambda(_n, 2*_n*pi + pi), Integers))"
            ],
            "text/latex": "$\\displaystyle \\left\\{2 n \\pi\\; \\middle|\\; n \\in \\mathbb{Z}\\right\\} \\cup \\left\\{2 n \\pi + \\pi\\; \\middle|\\; n \\in \\mathbb{Z}\\right\\}$"
          },
          "metadata": {}
        },
        {
          "output_type": "display_data",
          "data": {
            "text/plain": [
              "{0, pi}"
            ],
            "text/latex": "$\\displaystyle \\left\\{0, \\pi\\right\\}$"
          },
          "metadata": {}
        },
        {
          "output_type": "display_data",
          "data": {
            "text/plain": [
              "Interval.open(-oo, 0)"
            ],
            "text/latex": "$\\displaystyle \\left(-\\infty, 0\\right)$"
          },
          "metadata": {}
        },
        {
          "output_type": "display_data",
          "data": {
            "text/plain": [
              "Interval.open(pi, 2*pi)"
            ],
            "text/latex": "$\\displaystyle \\left(\\pi, 2 \\pi\\right)$"
          },
          "metadata": {}
        },
        {
          "output_type": "display_data",
          "data": {
            "text/plain": [
              "Union({1}, Interval(-oo, 0))"
            ],
            "text/latex": "$\\displaystyle \\left(-\\infty, 0\\right] \\cup \\left\\{1\\right\\}$"
          },
          "metadata": {}
        }
      ]
    },
    {
      "cell_type": "markdown",
      "source": [
        "Let's add a few more classes of functions. We implement natural logarithms, which cannot accept zero or negative arguments, but is continuous everywhere else."
      ],
      "metadata": {
        "id": "SKVGe_lEN-xn"
      }
    },
    {
      "cell_type": "code",
      "source": [
        "def logModify(f_exp: Expr,\n",
        "               f_problem_point: Set = S.EmptySet,\n",
        "               domain: Set = S.Reals) -> Set:\n",
        "  return f_problem_point.union(solveset(LessThan(f_exp, 0),\n",
        "                                        x, domain=domain))\n",
        "\n",
        "display(logModify(x + 1))\n",
        "display(logModify(S.Exp1))\n",
        "# Notice that sympy will only return one interval\n",
        "display(logModify(sin(x)))\n",
        "# Which is in [0, 2pi]. The following doesn't work\n",
        "display(logModify(sin(x), domain=Interval(190, oo)))"
      ],
      "metadata": {
        "colab": {
          "base_uri": "https://localhost:8080/",
          "height": 100
        },
        "id": "TPi2m9Jhuaez",
        "outputId": "cd80581d-e548-4e38-969a-c12b4d50a139"
      },
      "execution_count": 5,
      "outputs": [
        {
          "output_type": "display_data",
          "data": {
            "text/plain": [
              "Interval(-oo, -1)"
            ],
            "text/latex": "$\\displaystyle \\left(-\\infty, -1\\right]$"
          },
          "metadata": {}
        },
        {
          "output_type": "display_data",
          "data": {
            "text/plain": [
              "EmptySet"
            ],
            "text/latex": "$\\displaystyle \\emptyset$"
          },
          "metadata": {}
        },
        {
          "output_type": "display_data",
          "data": {
            "text/plain": [
              "Union({0}, Interval.Ropen(pi, 2*pi))"
            ],
            "text/latex": "$\\displaystyle \\left\\{0\\right\\} \\cup \\left[\\pi, 2 \\pi\\right)$"
          },
          "metadata": {}
        },
        {
          "output_type": "display_data",
          "data": {
            "text/plain": [
              "EmptySet"
            ],
            "text/latex": "$\\displaystyle \\emptyset$"
          },
          "metadata": {}
        }
      ]
    },
    {
      "cell_type": "markdown",
      "source": [
        "Sine and cosine are continuous on $\\mathbb{R}$. For the other trigonometric functions, which can be represented with division, we use what we have already built:"
      ],
      "metadata": {
        "id": "6taHt0Zjw8h7"
      }
    },
    {
      "cell_type": "code",
      "source": [
        "# For modifying either secant or tangent functions\n",
        "def secTanModify(f_exp: Expr,\n",
        "               f_problem_point: Set = S.EmptySet,\n",
        "               domain: Set = S.Reals) -> Set:\n",
        "  return powModify(cos(f_exp), Integer(-1), f_problem_point, domain)\n",
        "\n",
        "# For modifying either cosecant or cotangent functions\n",
        "def cscCotModify(f_exp: Expr,\n",
        "               f_problem_point: Set = S.EmptySet,\n",
        "               domain: Set = S.Reals):\n",
        "  return powModify(sin(f_exp), Integer(-1), f_problem_point, domain)\n",
        "\n",
        "# Examples\n",
        "display(cscCotModify(x))\n",
        "display(secTanModify(x))\n",
        "display(cscCotModify(x, FiniteSet(1)))\n",
        "display(cscCotModify(1))"
      ],
      "metadata": {
        "colab": {
          "base_uri": "https://localhost:8080/",
          "height": 121
        },
        "id": "JeEbOfvAw8P2",
        "outputId": "106ef2e5-cb6c-458c-bfe4-ca607cf18d77"
      },
      "execution_count": 6,
      "outputs": [
        {
          "output_type": "display_data",
          "data": {
            "text/plain": [
              "Union(ImageSet(Lambda(_n, 2*_n*pi), Integers), ImageSet(Lambda(_n, 2*_n*pi + pi), Integers))"
            ],
            "text/latex": "$\\displaystyle \\left\\{2 n \\pi\\; \\middle|\\; n \\in \\mathbb{Z}\\right\\} \\cup \\left\\{2 n \\pi + \\pi\\; \\middle|\\; n \\in \\mathbb{Z}\\right\\}$"
          },
          "metadata": {}
        },
        {
          "output_type": "display_data",
          "data": {
            "text/plain": [
              "Union(ImageSet(Lambda(_n, 2*_n*pi + pi/2), Integers), ImageSet(Lambda(_n, 2*_n*pi + 3*pi/2), Integers))"
            ],
            "text/latex": "$\\displaystyle \\left\\{2 n \\pi + \\frac{\\pi}{2}\\; \\middle|\\; n \\in \\mathbb{Z}\\right\\} \\cup \\left\\{2 n \\pi + \\frac{3 \\pi}{2}\\; \\middle|\\; n \\in \\mathbb{Z}\\right\\}$"
          },
          "metadata": {}
        },
        {
          "output_type": "display_data",
          "data": {
            "text/plain": [
              "Union({1}, ImageSet(Lambda(_n, 2*_n*pi), Integers), ImageSet(Lambda(_n, 2*_n*pi + pi), Integers))"
            ],
            "text/latex": "$\\displaystyle \\left\\{1\\right\\} \\cup \\left\\{2 n \\pi\\; \\middle|\\; n \\in \\mathbb{Z}\\right\\} \\cup \\left\\{2 n \\pi + \\pi\\; \\middle|\\; n \\in \\mathbb{Z}\\right\\}$"
          },
          "metadata": {}
        },
        {
          "output_type": "display_data",
          "data": {
            "text/plain": [
              "EmptySet"
            ],
            "text/latex": "$\\displaystyle \\emptyset$"
          },
          "metadata": {}
        }
      ]
    },
    {
      "cell_type": "markdown",
      "source": [
        "The floor and ceiling functions are very interesting functions for this project as they have many jump discontinuities, so I would like to implement them. For these, we look for where $f(x)$ is an integer, the idea being that possibly $⌊f(x - \\delta)⌋ \\neq ⌊f(x)⌋$ or $⌊f(x)⌋ \\neq ⌊f(x + \\delta)⌋$. If $f(c)$ is not an integer and $f$ is continuous at $c$, then there is a $\\delta$ small enough such that $⌊f(c - \\delta)⌋ = ⌊f(c)⌋ = ⌊f(c + \\delta)⌋$.\n",
        "\n",
        "To make this easier to find solutions, I will impose a restriction that Sympy can solve $f(y) = x$ for given $x$. That way, we can use an image set $\\{f^{-1}(x) ~|~ x \\in \\mathbb{Z}\\}$ to denote the points to include."
      ],
      "metadata": {
        "id": "UIb6yMkZlR4H"
      }
    },
    {
      "cell_type": "code",
      "source": [
        "def floorCeilModify(f_exp: Expr, f_problem_point: Set = S.EmptySet,\n",
        "                      domain: Set = S.Reals) -> Set:\n",
        "  # Find the inverse of f_exp\n",
        "  y = Symbol('y')\n",
        "  f_invs = solve(f_exp - y, x)\n",
        "  problem_points = f_problem_point\n",
        "  for inv in f_invs:\n",
        "    # Replace free symbols y with x to keep consistent\n",
        "    inv = inv.subs(y, x)\n",
        "    # Ensure that it stays on the real line\n",
        "    if not inv.has(S.ImaginaryUnit):\n",
        "      problem_points = problem_points.union(ImageSet(Lambda(x, inv),\n",
        "                                            Intersection(S.Integers,\n",
        "                                                        domain)))\n",
        "  return problem_points\n",
        "display(floorCeilModify(x))\n",
        "display(floorCeilModify(x**2))\n",
        "display(floorCeilModify(x**3))"
      ],
      "metadata": {
        "id": "QNcwB08WlRrc",
        "colab": {
          "base_uri": "https://localhost:8080/",
          "height": 82
        },
        "outputId": "1e1d2991-e1c1-44ab-ef71-59146d24440d"
      },
      "execution_count": 7,
      "outputs": [
        {
          "output_type": "display_data",
          "data": {
            "text/plain": [
              "Integers"
            ],
            "text/latex": "$\\displaystyle \\mathbb{Z}$"
          },
          "metadata": {}
        },
        {
          "output_type": "display_data",
          "data": {
            "text/plain": [
              "Union(ImageSet(Lambda(x, -sqrt(x)), Integers), ImageSet(Lambda(x, sqrt(x)), Integers))"
            ],
            "text/latex": "$\\displaystyle \\left\\{\\sqrt{x}\\; \\middle|\\; x \\in \\mathbb{Z}\\right\\} \\cup \\left\\{- \\sqrt{x}\\; \\middle|\\; x \\in \\mathbb{Z}\\right\\}$"
          },
          "metadata": {}
        },
        {
          "output_type": "display_data",
          "data": {
            "text/plain": [
              "ImageSet(Lambda(x, x**(1/3)), Integers)"
            ],
            "text/latex": "$\\displaystyle \\left\\{\\sqrt[3]{x}\\; \\middle|\\; x \\in \\mathbb{Z}\\right\\}$"
          },
          "metadata": {}
        }
      ]
    },
    {
      "cell_type": "markdown",
      "source": [
        "Now that we have a few functions to work with, let's create a function to accumulate all the problem points in an expression tree while we traverse the tree. The idea is that for functions $f$ and $g$, for $f(g(x))$ we find where $g$ may be discontinuous, then solve for potential discontinuities of $f \\circ g$, and union those points together."
      ],
      "metadata": {
        "id": "5LUpNXgo1-6p"
      }
    },
    {
      "cell_type": "code",
      "source": [
        "# Accumulates problem points\n",
        "def accProblemPoints(expr: Expr, domain: Set = S.Reals) -> Set:\n",
        "  problem_points = S.EmptySet\n",
        "  # Iterate through the arguments and recurse\n",
        "  for arg in expr.args:\n",
        "    problem_points = problem_points.union(accProblemPoints(arg))\n",
        "  # Add new problem points depending on the type of the argument\n",
        "  expr_class = expr.func\n",
        "  if expr.func == Pow: # Powers\n",
        "    problem_points = powModify(expr.args[0], expr.args[1],\n",
        "                                problem_points, domain)\n",
        "  elif expr.func == log: # Logarithms\n",
        "    problem_points = logModify(expr.args[0], problem_points, domain)\n",
        "  elif expr.func == csc or expr.func == cot: # Cosecants, cotangents\n",
        "    problem_points = cscCotModify(expr.args[0], problem_points, domain)\n",
        "  elif expr.func == sec or expr.func == tan:  # Secants, tangents\n",
        "    problem_points = secTanModify(expr.args[0], problem_points, domain)\n",
        "  elif expr.func == floor or expr.func == ceiling: # Floors, ceilings\n",
        "    problem_points = floorCeilModify(expr.args[0], problem_points, domain)\n",
        "  elif expr.func in (Abs, Add, Mul, sin, cos, Symbol) or expr.is_number:\n",
        "    pass  # Do nothing\n",
        "  else:\n",
        "      # Other functions are not supported (yet)\n",
        "      warnings.warn(f\"{expr.func} is not yet supported.\")\n",
        "  return problem_points\n",
        "\n",
        "# Examples\n",
        "display(accProblemPoints(x + 2))\n",
        "display(accProblemPoints(1 / x))\n",
        "display(accProblemPoints(Mul(x, Pow(x, -1), evaluate=false)))\n",
        "display(accProblemPoints(log(x)))\n",
        "display(accProblemPoints(1/(sin(x))))\n",
        "display(accProblemPoints(1/(x**2 + 4 * x + 4)))\n",
        "display(accProblemPoints(cot(3 * x)))\n",
        "display(accProblemPoints(1/((1/x)**2 + 4 * (1/x) + 4)))\n",
        "display(accProblemPoints(1/((1/x)**2 + 4 * (1/x) + 4)))\n",
        "display(accProblemPoints(floor(x/2)))"
      ],
      "metadata": {
        "id": "hlIo7ao4vRcI",
        "colab": {
          "base_uri": "https://localhost:8080/",
          "height": 284
        },
        "outputId": "41103722-6127-4305-e995-9b0111faf277"
      },
      "execution_count": 8,
      "outputs": [
        {
          "output_type": "display_data",
          "data": {
            "text/plain": [
              "EmptySet"
            ],
            "text/latex": "$\\displaystyle \\emptyset$"
          },
          "metadata": {}
        },
        {
          "output_type": "display_data",
          "data": {
            "text/plain": [
              "{0}"
            ],
            "text/latex": "$\\displaystyle \\left\\{0\\right\\}$"
          },
          "metadata": {}
        },
        {
          "output_type": "display_data",
          "data": {
            "text/plain": [
              "{0}"
            ],
            "text/latex": "$\\displaystyle \\left\\{0\\right\\}$"
          },
          "metadata": {}
        },
        {
          "output_type": "display_data",
          "data": {
            "text/plain": [
              "Interval(-oo, 0)"
            ],
            "text/latex": "$\\displaystyle \\left(-\\infty, 0\\right]$"
          },
          "metadata": {}
        },
        {
          "output_type": "display_data",
          "data": {
            "text/plain": [
              "Union(ImageSet(Lambda(_n, 2*_n*pi), Integers), ImageSet(Lambda(_n, 2*_n*pi + pi), Integers))"
            ],
            "text/latex": "$\\displaystyle \\left\\{2 n \\pi\\; \\middle|\\; n \\in \\mathbb{Z}\\right\\} \\cup \\left\\{2 n \\pi + \\pi\\; \\middle|\\; n \\in \\mathbb{Z}\\right\\}$"
          },
          "metadata": {}
        },
        {
          "output_type": "display_data",
          "data": {
            "text/plain": [
              "{-2}"
            ],
            "text/latex": "$\\displaystyle \\left\\{-2\\right\\}$"
          },
          "metadata": {}
        },
        {
          "output_type": "display_data",
          "data": {
            "text/plain": [
              "Union(ImageSet(Lambda(_n, 2*_n*pi/3), Integers), ImageSet(Lambda(_n, 2*_n*pi/3 + pi/3), Integers))"
            ],
            "text/latex": "$\\displaystyle \\left\\{\\frac{2 n \\pi}{3}\\; \\middle|\\; n \\in \\mathbb{Z}\\right\\} \\cup \\left\\{\\frac{2 n \\pi}{3} + \\frac{\\pi}{3}\\; \\middle|\\; n \\in \\mathbb{Z}\\right\\}$"
          },
          "metadata": {}
        },
        {
          "output_type": "display_data",
          "data": {
            "text/plain": [
              "{-1/2, 0}"
            ],
            "text/latex": "$\\displaystyle \\left\\{- \\frac{1}{2}, 0\\right\\}$"
          },
          "metadata": {}
        },
        {
          "output_type": "display_data",
          "data": {
            "text/plain": [
              "{-1/2, 0}"
            ],
            "text/latex": "$\\displaystyle \\left\\{- \\frac{1}{2}, 0\\right\\}$"
          },
          "metadata": {}
        },
        {
          "output_type": "display_data",
          "data": {
            "text/plain": [
              "ImageSet(Lambda(x, 2*x), Integers)"
            ],
            "text/latex": "$\\displaystyle \\left\\{2 x\\; \\middle|\\; x \\in \\mathbb{Z}\\right\\}$"
          },
          "metadata": {}
        }
      ]
    },
    {
      "cell_type": "markdown",
      "source": [
        "## Classifying Discontinuities\n",
        "After accumulating problem points, we can evaluate the limit and the function at these points to categorize the discontinuity. The following function takes in a single value and a funtion and classifies the discontinuity among the following:\n",
        "1. Continuous, i.e. $f(c) = \\lim_{x \\rightarrow c} f(x)$\n",
        "2. Removable discontinuity, i.e. $f(c)$ and $\\lim_{x \\rightarrow c} f(x)$ exist but $f(c) \\neq f(x)$\n",
        "3. Jump discontinuity, i.e. $\\lim_{x \\rightarrow c^+} f(x) \\neq \\lim_{x \\rightarrow c^-} f(x)$\n",
        "4. Essential discontinuity, where at least one of $\\lim_{x \\rightarrow c^+} f(x), \\lim_{x \\rightarrow c^-} f(x)$ do not exist.\n",
        "5. Infinite discontinuity, where at least one of $\\lim_{x \\rightarrow c^+} f(x), \\lim_{x \\rightarrow c^-} f(x)$ evaluate to positive or negative infinity."
      ],
      "metadata": {
        "id": "p2bmlxv39mrX"
      }
    },
    {
      "cell_type": "code",
      "source": [
        "def classifyVals(f_val: Number, f_limit_l: Number | AccumBounds,\n",
        "                  f_limit_r: Number | AccumBounds):\n",
        "  # Check if both limits are numbers (including infinity)\n",
        "  if f_limit_l.is_number or f_limit_r.is_number:\n",
        "    if f_limit_l.is_infinite or f_limit_l.is_infinite:\n",
        "      # Infinite discontinuity\n",
        "      return \"Infinite Discontinuity\"\n",
        "    # Check if they are equal\n",
        "    elif f_limit_l == f_limit_r:\n",
        "      # Check if it is equal to f\n",
        "      if f_limit_l == f_val:\n",
        "        return \"Continuous\"\n",
        "      else: # They are not equal\n",
        "        return \"Removable Discontinuity\"\n",
        "    else: # Otherwise, it is a jump discontinuity\n",
        "      return \"Jump Discontinuity\"\n",
        "  else:  # One of the sided limits DNE, so Essential Discontinuity\n",
        "    return \"Essential Discontinuity\"\n",
        "\n",
        "\n",
        "def classify(f_exp: Expr, val: Number, domain: Set = S.Reals) -> str:\n",
        "  # Evaluate f at val\n",
        "  f_val = f_exp.subs(x, val, simultaneous=True)\n",
        "  # Evaluate the sided limits limit\n",
        "  f_limit_l = limit(f_exp, x, val, '-')\n",
        "  f_limit_r = limit(f_exp, x, val, '+')\n",
        "  # Check if the value is even in the domain specified\n",
        "  if not val in domain:\n",
        "    return \"Not in Domain\"\n",
        "  else:\n",
        "    return classifyVals(f_val, f_limit_l, f_limit_r)\n",
        "\n",
        "\n",
        "# Examples\n",
        "print(classify(1/x, 0))\n",
        "print(classify(S.Exp1**(1/x), 0))\n",
        "print(classify(1/x, 1))\n",
        "print(classify(Abs(x)/x, 0))\n",
        "print(classify(Abs(x)/x, 1))\n",
        "print(classify(sin(x)/x, 0))\n",
        "print(classify(sin(1/x), 0))\n",
        "print(classify((x + 2)/(x**2 + 4 * x + 4), -2))\n",
        "# It seems like Sympy doesn't evaluate the following as non-real:\n",
        "print(Pow(Pow(x, -1), -1, evaluate=False).subs(x, 0, simultaenous=True))\n",
        "# Leading to incorrect classification:\n",
        "print(classify(Pow(Pow(x, -1), -1, evaluate=False), 0))\n",
        "\n"
      ],
      "metadata": {
        "id": "RL0MGdFhJjVT",
        "colab": {
          "base_uri": "https://localhost:8080/"
        },
        "outputId": "9f36af18-b5a7-4765-aec9-bed82a902201"
      },
      "execution_count": 9,
      "outputs": [
        {
          "output_type": "stream",
          "name": "stdout",
          "text": [
            "Infinite Discontinuity\n",
            "Jump Discontinuity\n",
            "Continuous\n",
            "Jump Discontinuity\n",
            "Continuous\n",
            "Removable Discontinuity\n",
            "Essential Discontinuity\n",
            "Infinite Discontinuity\n",
            "0\n",
            "Continuous\n"
          ]
        }
      ]
    },
    {
      "cell_type": "markdown",
      "source": [
        "## Iterating through Points to Check\n",
        "Now, we iterate through the set of problem points and check them. We will put a max on 1000 points checked, which should be enough for most relevant functions. It is mainly to deal with Image Sets to prevent the function from running indefinitely.\n",
        "\n",
        "Finite sets are easy to deal with. To treat intervals, so far, the implementation for finding problem points is very similar to finding the domain. Therefore, we only consider the boundaries for intervals. For Image Sets, we turn them into iterable objects and cycle through each image set for additional points. We will not support the rationals or reals currently.\n",
        "\n",
        "Our first function is to create a queue given the"
      ],
      "metadata": {
        "id": "n3qbic4tgCsc"
      }
    },
    {
      "cell_type": "code",
      "source": [
        "\n",
        "def queueProblemPoints(p_set: Set, max_points: int=1000) -> queue.Queue:\n",
        "  # Set an accumlator for the points checked\n",
        "  points_checked = 0\n",
        "  # Initialize queues\n",
        "  queued_points = queue.Queue(maxsize=max_points)\n",
        "  check_next = queue.Queue()\n",
        "  iterable_sets = []\n",
        "  check_next.put(p_set)\n",
        "  # Iterate until we hit the max points or until we've\n",
        "  # Iterated through all the sets\n",
        "  while points_checked < max_points and not check_next.empty():\n",
        "    # Get the first item in check_next\n",
        "    next_set = check_next.get()\n",
        "    # Handle each type of set accordingly\n",
        "    if next_set.func == FiniteSet:\n",
        "      # For finite sets, add each point to the queue, assuming only\n",
        "      # discrete values are in the set\n",
        "      for arg in next_set.args:\n",
        "        if arg in S.Reals:\n",
        "          queued_points.put(arg)\n",
        "          points_checked += 1\n",
        "    elif next_set.func == Union:\n",
        "      # For unions, add each argument back to the queue to check\n",
        "      for arg in next_set.args:\n",
        "        check_next.put(arg)\n",
        "    elif next_set.func == Interval:\n",
        "      # Add the endpoints if unbounded\n",
        "      if not next_set.is_left_unbounded:\n",
        "        queued_points.put(next_set.start)\n",
        "        points_checked += 1\n",
        "      if not next_set.is_right_unbounded:\n",
        "        queued_points.put(next_set.end)\n",
        "        points_checked += 1\n",
        "    elif next_set.is_iterable:\n",
        "      # Put the image set/other iterable sets into a new list if iterable,\n",
        "      iterable_sets.append(iter(next_set))\n",
        "    elif next_set == S.EmptySet:\n",
        "      # Don't do anything for empty sets\n",
        "      pass\n",
        "    else:\n",
        "      # Other sets, ex. Condition Sets and Intersects,\n",
        "      # are not supported currently\n",
        "      warnings.warn(f\"The set {next_set.func} is not yet supported.\")\n",
        "\n",
        "\n",
        "  # Iterate through the image sets\n",
        "  iterable_sets_len = len(iterable_sets)\n",
        "  if iterable_sets_len > 0:\n",
        "    # Keep track of which image set we are on\n",
        "    image_set_i = 0\n",
        "    num = 0\n",
        "    while points_checked < max_points:\n",
        "      # Put in the next element\n",
        "      next_point = next(iterable_sets[image_set_i])\n",
        "      if next_point in S.Reals:\n",
        "        queued_points.put(next_point)\n",
        "      points_checked += 1\n",
        "      # Go check the next num if possible\n",
        "      if image_set_i + 1 % iterable_sets_len == 0:\n",
        "        num += 1\n",
        "      # Rotate through the image sets\n",
        "      image_set_i = (image_set_i + 1) % iterable_sets_len\n",
        "\n",
        "  return queued_points\n",
        "\n",
        "# Examples\n",
        "display(queueProblemPoints(FiniteSet(0, 1, 2)).queue)\n",
        "display(queueProblemPoints(ImageSet(Lambda(x, pi * x),\n",
        "                                      S.Integers), 10).queue)\n",
        "display(queueProblemPoints(Union(FiniteSet(0), FiniteSet(1))).queue)\n",
        "display(queueProblemPoints(Union(ImageSet(Lambda(x, 2 * pi * x),\n",
        "                                            S.Integers),\n",
        "                                   ImageSet(Lambda(x, 2 * pi * x + pi),\n",
        "                                            S.Integers)), 10).queue)\n",
        "display(queueProblemPoints(Interval(-oo, 1)).queue)\n",
        "display(queueProblemPoints(Interval(2, oo)).queue)\n",
        "display(queueProblemPoints(Interval(2, 3)).queue)"
      ],
      "metadata": {
        "colab": {
          "base_uri": "https://localhost:8080/",
          "height": 138
        },
        "id": "qUe4JSka9S4j",
        "outputId": "ddaca2ae-4a21-4f82-8087-5280c1a79159"
      },
      "execution_count": 10,
      "outputs": [
        {
          "output_type": "display_data",
          "data": {
            "text/plain": [
              "deque([0, 1, 2])"
            ]
          },
          "metadata": {}
        },
        {
          "output_type": "display_data",
          "data": {
            "text/plain": [
              "deque([0, pi, -pi, 2*pi, -2*pi, 3*pi, -3*pi, 4*pi, -4*pi, 5*pi])"
            ]
          },
          "metadata": {}
        },
        {
          "output_type": "display_data",
          "data": {
            "text/plain": [
              "deque([0, 1])"
            ]
          },
          "metadata": {}
        },
        {
          "output_type": "display_data",
          "data": {
            "text/plain": [
              "deque([0, pi, 2*pi, 3*pi, -2*pi, -pi, 4*pi, 5*pi, -4*pi, -3*pi])"
            ]
          },
          "metadata": {}
        },
        {
          "output_type": "display_data",
          "data": {
            "text/plain": [
              "deque([1])"
            ]
          },
          "metadata": {}
        },
        {
          "output_type": "display_data",
          "data": {
            "text/plain": [
              "deque([2])"
            ]
          },
          "metadata": {}
        },
        {
          "output_type": "display_data",
          "data": {
            "text/plain": [
              "deque([2, 3])"
            ]
          },
          "metadata": {}
        }
      ]
    },
    {
      "cell_type": "markdown",
      "source": [
        "Now, let's check each element in the queue."
      ],
      "metadata": {
        "id": "Y4ZAhaJcSJXZ"
      }
    },
    {
      "cell_type": "code",
      "source": [
        "def checkProblemPoints(p_queue: queue.Queue, f_exp: Expr,\n",
        "                         domain: Set = S.Reals) -> list:\n",
        "  discontinuities = []\n",
        "  # Iterate through\n",
        "  while not p_queue.empty():\n",
        "    next_point = p_queue.get()\n",
        "    discontinuity_type = classify(f_exp, next_point, domain)\n",
        "    if not discontinuity_type in (\"Continuous\", \"Not in Domain\"):\n",
        "      discontinuities.append((next_point, discontinuity_type))\n",
        "  return discontinuities\n",
        "\n",
        "# Examples\n",
        "test_queue = queue.Queue()\n",
        "test_queue.put(0)\n",
        "display(checkProblemPoints(test_queue, sin(x) / x))\n",
        "test_queue.put(0)\n",
        "display(checkProblemPoints(test_queue, sin(1 / x)))\n",
        "test_queue.put(-1)\n",
        "display(checkProblemPoints(test_queue, sin(1 / x)))\n",
        "test_queue.put(0)\n",
        "test_queue.put(1)\n",
        "display(checkProblemPoints(test_queue,\n",
        "                             sin(1 / x) + Abs(x - 1) / (x - 1)))"
      ],
      "metadata": {
        "id": "PWkAM6__hWXG",
        "colab": {
          "base_uri": "https://localhost:8080/",
          "height": 86
        },
        "outputId": "1b9cb823-4428-4278-8e62-488f550c9e52"
      },
      "execution_count": 11,
      "outputs": [
        {
          "output_type": "display_data",
          "data": {
            "text/plain": [
              "[(0, 'Removable Discontinuity')]"
            ]
          },
          "metadata": {}
        },
        {
          "output_type": "display_data",
          "data": {
            "text/plain": [
              "[(0, 'Essential Discontinuity')]"
            ]
          },
          "metadata": {}
        },
        {
          "output_type": "display_data",
          "data": {
            "text/plain": [
              "[]"
            ]
          },
          "metadata": {}
        },
        {
          "output_type": "display_data",
          "data": {
            "text/plain": [
              "[(0, 'Essential Discontinuity'), (1, 'Jump Discontinuity')]"
            ]
          },
          "metadata": {}
        }
      ]
    },
    {
      "cell_type": "markdown",
      "source": [
        "## Implementing Piecewise Functions\n",
        "Common examples of discontinuities arise from piecewise functions. For example, there is a jump discontinuity at $x=1$ for:\n",
        "$$f(x) = \\begin{cases} 0 \\text{ if } x < 1 \\\\ 1 \\text{ if } x \\geq 1 \\end{cases}$$\n",
        "We are going to restrict piecewise functions to be piecewise on intervals, i.e. no Thomae's function.\n",
        "\n",
        "Note that there seems to be a bug in Sympy which prevents correct evaluation of sided limits of piecewise functions, which causses a few modifications in the following function. This is why I have opted to write a separate function specifically for piecewise functions rather than implementing it similar to the functions before. It still uses many of the functions and steps that we will see in `detect_discontinuities`, but adapted for piecewise functions."
      ],
      "metadata": {
        "id": "7GBHg6z0hger"
      }
    },
    {
      "cell_type": "code",
      "source": [
        "def detect_discontinuities_piecewise(\n",
        "    piecewise_func: Expr, max_check: int = 1000):\n",
        "  # Initialize to accumulate\n",
        "  problem_points = S.EmptySet\n",
        "  remaining_pieces = S.Reals\n",
        "\n",
        "  # Because of the bug, we calculate the limits per piece rather than\n",
        "  # Of the whole function. The following dicts keep track of the sided\n",
        "  # limits.\n",
        "  left_limits = {}\n",
        "  right_limits = {}\n",
        "\n",
        "  # Check if it is a piecewise function\n",
        "  if not piecewise_func.is_Piecewise:\n",
        "    warnings.warn(\"The function is not a piecewise function.\")\n",
        "    return\n",
        "  # Iterate through each piece\n",
        "  for piece in piecewise_func.args:\n",
        "    # piece[0] is the function, piece[1] is the condition\n",
        "    # Find the domain as an interval\n",
        "    if piece[1] == True:  # The \"else,\" which is at the end\n",
        "      piece_domain = remaining_pieces\n",
        "    else:\n",
        "      if piece[1].func == And:\n",
        "        # For and, we just intersect\n",
        "        piece_domain = S.Reals\n",
        "        for cond in piece[1].args:\n",
        "          piece_domain = piece_domain.intersect(solveset(cond,\n",
        "                                                         x, S.Reals))\n",
        "      elif piece[1].func == Or:\n",
        "        # For or, we just union\n",
        "        piece_domain = S.EmptySet\n",
        "        for cond in piece[1].args:\n",
        "          piece_domain = piece_domain.union(solveset(cond,\n",
        "                                                     x, S.Reals))\n",
        "      else:\n",
        "        piece_domain = solveset(piece[1], x, S.Reals)\n",
        "      remaining_pieces = Complement(remaining_pieces, piece_domain)\n",
        "    # Get the separate pieces (ex. if the condition is x**2 > 4)\n",
        "    if piece_domain.func == Union:\n",
        "      piece_domain_list = piece_domain.args\n",
        "    # Intervals and finite sets we add the entire thing\n",
        "    elif piece_domain.func == Interval or piece_domain.func == FiniteSet:\n",
        "      piece_domain_list = [piece_domain]\n",
        "    else:\n",
        "      raise ValueError(\"The condition must create intervals!\")\n",
        "\n",
        "    # Iterate through\n",
        "    for part in piece_domain_list:\n",
        "      if part.func == Interval:\n",
        "        # Accumulate the end points\n",
        "        if not part.is_left_unbounded:\n",
        "          problem_points = problem_points.union(FiniteSet(part.start))\n",
        "          left_limits[part.start] = limit(piece[0], x, part.start, '+')\n",
        "        if not part.is_right_unbounded:\n",
        "          problem_points = problem_points.union(FiniteSet(part.end))\n",
        "          right_limits[part.end] = limit(piece[0], x, part.end, '-')\n",
        "      elif piece_domain.func == FiniteSet:\n",
        "        # Just check if those points are problematic\n",
        "        problem_points = problem_points.union(piece_domain)\n",
        "      else:\n",
        "        raise ValueError(\"The condition must create intervals!\")\n",
        "\n",
        "  # Turn them into a queue\n",
        "  queued_points = queueProblemPoints(problem_points, max_check)\n",
        "  # Our answer\n",
        "  discontinuities = []\n",
        "\n",
        "  # Iterate through\n",
        "  while not queued_points.empty():\n",
        "    next_point = queued_points.get()\n",
        "    # Find the value and limits\n",
        "    f_val = piecewise_func.subs(x, next_point)\n",
        "    # Use our dictionary first when finding sided limits\n",
        "    if next_point in left_limits.keys():\n",
        "      f_limit_l = left_limits[next_point]\n",
        "    else:\n",
        "      f_limit_l = limit(piecewise_func, x, next_point, '-')\n",
        "    if next_point in right_limits.keys():\n",
        "      f_limit_r = right_limits[next_point]\n",
        "    else:\n",
        "      f_limit_r = limit(piecewise_func, x, next_point, '-')\n",
        "    discontinuity_type = classifyVals(f_val, f_limit_l, f_limit_r)\n",
        "    if not discontinuity_type in (\"Continuous\", \"Not in Domain\"):\n",
        "      discontinuities.append((next_point, discontinuity_type))\n",
        "  return discontinuities\n",
        "\n",
        "# Examples\n",
        "display(detect_discontinuities_piecewise(Piecewise((0, x < 1),\n",
        "                                                   (1, x > 1),\n",
        "                                                   (2, True))))\n",
        "display(detect_discontinuities_piecewise(Piecewise((0, x <= 1),\n",
        "                                                   (1, x > 1),\n",
        "                                                   (2, True))))\n",
        "display(detect_discontinuities_piecewise(Piecewise((x + 1, x <= 0),\n",
        "                                                   (x - 1, x > 0),\n",
        "                                                   (2, True))))\n",
        "display(detect_discontinuities_piecewise(Piecewise((x**2/x**3,\n",
        "                                                    And(x > 5, x < 9)),\n",
        "                                                   (2, True))))\n",
        "display(detect_discontinuities_piecewise(Piecewise((x, Ne(x, 0)),\n",
        "                                                   (2, True))))\n",
        "display(detect_discontinuities_piecewise(Piecewise((x / x, Ne(x, 0)),\n",
        "                                                   (1, True),\n",
        "                                                   evaluate=False)))"
      ],
      "metadata": {
        "colab": {
          "base_uri": "https://localhost:8080/",
          "height": 156
        },
        "id": "H2TAg8DUhGy3",
        "outputId": "30460eb1-2e0c-4901-db81-aa3999e0e2f9"
      },
      "execution_count": 12,
      "outputs": [
        {
          "output_type": "display_data",
          "data": {
            "text/plain": [
              "[(1, 'Jump Discontinuity')]"
            ]
          },
          "metadata": {}
        },
        {
          "output_type": "display_data",
          "data": {
            "text/plain": [
              "[(1, 'Jump Discontinuity')]"
            ]
          },
          "metadata": {}
        },
        {
          "output_type": "display_data",
          "data": {
            "text/plain": [
              "[(0, 'Jump Discontinuity')]"
            ]
          },
          "metadata": {}
        },
        {
          "output_type": "display_data",
          "data": {
            "text/plain": [
              "[(5, 'Jump Discontinuity'), (9, 'Jump Discontinuity')]"
            ]
          },
          "metadata": {}
        },
        {
          "output_type": "display_data",
          "data": {
            "text/plain": [
              "[(0, 'Removable Discontinuity')]"
            ]
          },
          "metadata": {}
        },
        {
          "output_type": "display_data",
          "data": {
            "text/plain": [
              "[]"
            ]
          },
          "metadata": {}
        },
        {
          "output_type": "display_data",
          "data": {
            "text/plain": [
              "[]"
            ]
          },
          "metadata": {}
        },
        {
          "output_type": "display_data",
          "data": {
            "text/plain": [
              "[(0, 'Removable Discontinuity')]"
            ]
          },
          "metadata": {}
        }
      ]
    },
    {
      "cell_type": "markdown",
      "source": [
        "## Putting Everything Together\n",
        "So we have all the functions to classify discontinuities. Let's combine them all, starting from input and ending with the list of discontinuities."
      ],
      "metadata": {
        "id": "6dm_cOvnWnD9"
      }
    },
    {
      "cell_type": "code",
      "source": [
        "def detect_discontinuities(input_str: str = None, max_check: int = 1000):\n",
        "  # Get input\n",
        "  parsed_f = getInput(input_str)\n",
        "  # Use our special function if piecewise\n",
        "  if parsed_f.func == Piecewise:\n",
        "    return detect_discontinuities_piecewise(parsed_f, max_check)\n",
        "  else:\n",
        "    # Accumulate problem points\n",
        "    problem_points = accProblemPoints(parsed_f)\n",
        "    # Turn them into a queue\n",
        "    queued_points = queueProblemPoints(problem_points, max_check)\n",
        "    # Check problem points\n",
        "    discontinuities = checkProblemPoints(queued_points, parsed_f)\n",
        "    return discontinuities\n",
        "\n",
        "# Examples\n",
        "print(detect_discontinuities(\"1/sin(x)\", 5))\n",
        "print(detect_discontinuities(\"sqrt(x)\", 5))\n",
        "print(detect_discontinuities(\"tan(x)\", 5))\n",
        "print(detect_discontinuities(\"tan(x)cos(x)\", 5))\n",
        "print(detect_discontinuities(\"(x+1)(x+2)/((x+1))\"))\n",
        "print(detect_discontinuities(\"x/sin(x)\", 5))\n",
        "print(detect_discontinuities(\"floor(x)\", 5))\n",
        "print(detect_discontinuities(\"abs((1/x)+2)/((1/x)+2)\"))\n",
        "piecewise_1 = \"Piecewise((sin(x) / x, Ne(x, 0)), (1, True))\"\n",
        "print(detect_discontinuities(piecewise_1))\n",
        "piecewise_2 = \"Piecewise((sin(x) / x, Ne(x, 0)), (2, True))\"\n",
        "print(detect_discontinuities(piecewise_2))\n"
      ],
      "metadata": {
        "colab": {
          "base_uri": "https://localhost:8080/",
          "height": 706
        },
        "id": "HqJK9R5QOe75",
        "outputId": "569f0dcf-18bd-42ad-dcd2-055dbd6c8123"
      },
      "execution_count": 20,
      "outputs": [
        {
          "output_type": "stream",
          "name": "stdout",
          "text": [
            "Input: \n"
          ]
        },
        {
          "output_type": "display_data",
          "data": {
            "text/plain": [
              "1/sin(x)"
            ],
            "text/latex": "$\\displaystyle 1 \\frac{1}{\\sin{\\left(x \\right)}}$"
          },
          "metadata": {}
        },
        {
          "output_type": "stream",
          "name": "stdout",
          "text": [
            "[(0, 'Infinite Discontinuity'), (pi, 'Infinite Discontinuity'), (2*pi, 'Infinite Discontinuity'), (3*pi, 'Infinite Discontinuity'), (-2*pi, 'Infinite Discontinuity')]\n",
            "Input: \n"
          ]
        },
        {
          "output_type": "display_data",
          "data": {
            "text/plain": [
              "sqrt(x)"
            ],
            "text/latex": "$\\displaystyle \\sqrt{x}$"
          },
          "metadata": {}
        },
        {
          "output_type": "stream",
          "name": "stdout",
          "text": [
            "[]\n",
            "Input: \n"
          ]
        },
        {
          "output_type": "display_data",
          "data": {
            "text/plain": [
              "tan(x)"
            ],
            "text/latex": "$\\displaystyle \\tan{\\left(x \\right)}$"
          },
          "metadata": {}
        },
        {
          "output_type": "stream",
          "name": "stdout",
          "text": [
            "[(pi/2, 'Infinite Discontinuity'), (3*pi/2, 'Infinite Discontinuity'), (5*pi/2, 'Infinite Discontinuity'), (7*pi/2, 'Infinite Discontinuity'), (-3*pi/2, 'Infinite Discontinuity')]\n",
            "Input: \n"
          ]
        },
        {
          "output_type": "display_data",
          "data": {
            "text/plain": [
              "cos(x)*tan(x)"
            ],
            "text/latex": "$\\displaystyle \\cos{\\left(x \\right)} \\tan{\\left(x \\right)}$"
          },
          "metadata": {}
        },
        {
          "output_type": "stream",
          "name": "stdout",
          "text": [
            "[(pi/2, 'Removable Discontinuity'), (3*pi/2, 'Removable Discontinuity'), (5*pi/2, 'Removable Discontinuity'), (7*pi/2, 'Removable Discontinuity'), (-3*pi/2, 'Removable Discontinuity')]\n",
            "Input: \n"
          ]
        },
        {
          "output_type": "display_data",
          "data": {
            "text/plain": [
              "(x + 1)*(x + 2)/(x + 1)"
            ],
            "text/latex": "$\\displaystyle \\frac{\\left(x + 1\\right) \\left(x + 2\\right)}{x + 1}$"
          },
          "metadata": {}
        },
        {
          "output_type": "stream",
          "name": "stdout",
          "text": [
            "[]\n",
            "Input: \n"
          ]
        },
        {
          "output_type": "display_data",
          "data": {
            "text/plain": [
              "x/sin(x)"
            ],
            "text/latex": "$\\displaystyle \\frac{x}{\\sin{\\left(x \\right)}}$"
          },
          "metadata": {}
        },
        {
          "output_type": "stream",
          "name": "stdout",
          "text": [
            "[(0, 'Removable Discontinuity'), (pi, 'Infinite Discontinuity'), (2*pi, 'Infinite Discontinuity'), (3*pi, 'Infinite Discontinuity'), (-2*pi, 'Infinite Discontinuity')]\n",
            "Input: \n"
          ]
        },
        {
          "output_type": "display_data",
          "data": {
            "text/plain": [
              "floor(x)"
            ],
            "text/latex": "$\\displaystyle \\left\\lfloor{x}\\right\\rfloor$"
          },
          "metadata": {}
        },
        {
          "output_type": "stream",
          "name": "stdout",
          "text": [
            "[(0, 'Jump Discontinuity'), (1, 'Jump Discontinuity'), (-1, 'Jump Discontinuity'), (2, 'Jump Discontinuity'), (-2, 'Jump Discontinuity')]\n",
            "Input: \n"
          ]
        },
        {
          "output_type": "display_data",
          "data": {
            "text/plain": [
              "Abs(2 + 1/x)/(2 + 1/x)"
            ],
            "text/latex": "$\\displaystyle \\frac{\\left|{2 + 1 \\frac{1}{x}}\\right|}{2 + 1 \\frac{1}{x}}$"
          },
          "metadata": {}
        },
        {
          "output_type": "stream",
          "name": "stdout",
          "text": [
            "[(-1/2, 'Jump Discontinuity'), (0, 'Jump Discontinuity')]\n",
            "Input: \n"
          ]
        },
        {
          "output_type": "display_data",
          "data": {
            "text/plain": [
              "Piecewise((sin(x)/x, Ne(x, 0)), (1, True))"
            ],
            "text/latex": "$\\displaystyle \\begin{cases} \\frac{\\sin{\\left(x \\right)}}{x} & \\text{for}\\: x \\neq 0 \\\\1 & \\text{otherwise} \\end{cases}$"
          },
          "metadata": {}
        },
        {
          "output_type": "stream",
          "name": "stdout",
          "text": [
            "[]\n",
            "Input: \n"
          ]
        },
        {
          "output_type": "display_data",
          "data": {
            "text/plain": [
              "Piecewise((sin(x)/x, Ne(x, 0)), (2, True))"
            ],
            "text/latex": "$\\displaystyle \\begin{cases} \\frac{\\sin{\\left(x \\right)}}{x} & \\text{for}\\: x \\neq 0 \\\\2 & \\text{otherwise} \\end{cases}$"
          },
          "metadata": {}
        },
        {
          "output_type": "stream",
          "name": "stdout",
          "text": [
            "[(0, 'Removable Discontinuity')]\n"
          ]
        }
      ]
    },
    {
      "cell_type": "markdown",
      "source": [
        "This cell will allow input:"
      ],
      "metadata": {
        "id": "ARCAERXKK_zr"
      }
    },
    {
      "cell_type": "code",
      "source": [
        "detect_discontinuities()"
      ],
      "metadata": {
        "colab": {
          "base_uri": "https://localhost:8080/",
          "height": 110
        },
        "id": "DRUiIECjK_iw",
        "outputId": "35b836d5-3310-4af3-eff8-0f15285c8e9c"
      },
      "execution_count": 14,
      "outputs": [
        {
          "output_type": "stream",
          "name": "stdout",
          "text": [
            "f(x) = sin(1/4x)\n",
            "Input: \n"
          ]
        },
        {
          "output_type": "display_data",
          "data": {
            "text/plain": [
              "sin(1*x/4)"
            ],
            "text/latex": "$\\displaystyle \\sin{\\left(1 \\cdot \\frac{1}{4} x \\right)}$"
          },
          "metadata": {}
        },
        {
          "output_type": "execute_result",
          "data": {
            "text/plain": [
              "[]"
            ]
          },
          "metadata": {},
          "execution_count": 14
        }
      ]
    },
    {
      "cell_type": "markdown",
      "source": [
        "## Conclusion\n",
        "In this notebook, we have created functions to detect discontinuities by viewing the function as a chain of function compositions, and propogate points we suspect are discontinuous backwards. The reason I chose this approach is because there are not many properties that discontinuous functions share, specifically functions with removable discontinuities that I sought to detect. For example, we can create a function discontinuous at $x=c$ by introducing a removable discontinuity at $c$. For this reason, I could not think of any ways I could exploit properties of continuous functions to find discontinuities other than a thorough search method implemented here. However, this method relies heavily on some Sympy operations, in particular the set operations, and as a result, may be inefficient. After comparing to Sympy's implementation of the `continuous_domain` and `singularities` method, the two methods seem to have the same essence, except Sympy does not take a recursive approach. Instead, it iterates through the `atoms` of the expression to find points not in the domain, which is probably more efficient.\n",
        "\n",
        "The largest improvement I would like to implement, outside of supporting more functions, is a more elegant way of dealing with image sets. Currently, for a function like $\\frac{1}{\\sin(x)}$, the program gets an image set of all $x$ such that $\\sin(x) = 0$, then testing each point in the image set individually. I wonder if it is possible to implement some heuristics for the program to instead return an image set describing $x$ such that $f$ has a specific type of discontinuity at $x$.\n"
      ],
      "metadata": {
        "id": "g4DPqg9a89_1"
      }
    }
  ]
}